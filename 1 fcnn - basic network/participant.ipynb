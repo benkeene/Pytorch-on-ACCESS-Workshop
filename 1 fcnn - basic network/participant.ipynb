{
 "cells": [
  {
   "cell_type": "markdown",
   "metadata": {},
   "source": [
    "Inspired by the PyTorch tutorial on the official website, this is a simple example of a neural network that learns to predict the output of a simple function.\n",
    "\n",
    "\n",
    "https://pytorch.org/tutorials/beginner/basics/quickstart_tutorial.html"
   ]
  },
  {
   "cell_type": "markdown",
   "metadata": {},
   "source": [
    "Importing the following libraries:\n",
    "\n",
    "- torch: PyTorch, the ML library we're using\n",
    "- torch.nn: Contains neural network classes and nn.Functional for functional versions\n",
    "- DataLoader: An iterable object that allows us to iterate over the dataset\n",
    "- torchvision: A vision focused library containing datasets, models, and transformations"
   ]
  },
  {
   "cell_type": "code",
   "execution_count": 7,
   "metadata": {},
   "outputs": [],
   "source": [
    "import torch\n",
    "from torch import nn\n",
    "from torch.utils.data import DataLoader\n",
    "from torchvision import datasets\n",
    "from torchvision.transforms import ToTensor"
   ]
  },
  {
   "cell_type": "markdown",
   "metadata": {},
   "source": [
    "Using the `FashionMNIST` dataset, in `torchvision.datasets`, create a training dataset object and a testing dataset object.\n",
    "\n",
    "We can specify the following arguments:\n",
    "- `root`: `str` The directory where the dataset is stored\n",
    "- `train`: `bool` Whether this is the training or testing dataset\n",
    "- `download`: `bool` Download if not found at `root`\n",
    "- `transform`: `callable` Any preprocessing steps"
   ]
  },
  {
   "cell_type": "code",
   "execution_count": 8,
   "metadata": {},
   "outputs": [],
   "source": [
    "# training dataset for FashionMNIST\n",
    "\"\"\"\n",
    "train_data = ...\n",
    "\"\"\"\n",
    "training_data = datasets.FashionMNIST(\n",
    "    root=\"data\",\n",
    "    train=True,\n",
    "    download=True,\n",
    "    transform=ToTensor()\n",
    ")\n",
    "\n",
    "# test dataset for FashionMNIST\n",
    "\"\"\"\n",
    "test_data = ...\n",
    "\"\"\"\n",
    "\n",
    "test_data = datasets.FashionMNIST(\n",
    "    root=\"data\",\n",
    "    train=False,\n",
    "    download=True,\n",
    "    transform=ToTensor()\n",
    ")"
   ]
  },
  {
   "cell_type": "markdown",
   "metadata": {},
   "source": [
    "Now let's create a dataloader, an iterable object that feeds data to the model in batches.\n",
    "\n",
    "Before that, we must choose a batch size, the number of samples fed to the model at once. You can choose any number, but powers of 2 work best.\n",
    "\n",
    "The `DataLoader` class takes the following arguments:\n",
    "- `dataset`: The dataset object\n",
    "- `batch_size`: The number of samples fed to the model at once\n",
    "\n",
    "Let's take one batch from the test dataloader and see its shape."
   ]
  },
  {
   "cell_type": "code",
   "execution_count": 9,
   "metadata": {},
   "outputs": [
    {
     "name": "stdout",
     "output_type": "stream",
     "text": [
      "Shape of X:  torch.Size([64, 1, 28, 28])\n",
      "Shape of y:  torch.Size([64]) torch.int64\n"
     ]
    }
   ],
   "source": [
    "# specify batch size\n",
    "\"\"\"\n",
    "batch_size = ...\n",
    "\"\"\"\n",
    "\n",
    "batch_size = 64\n",
    "# instantiate train and test dataloaders\n",
    "\"\"\"\n",
    "train_dataloader = ...\n",
    "test_dataloader = ...\n",
    "\"\"\"\n",
    "\n",
    "train_dataloader = DataLoader(training_data, batch_size=batch_size)\n",
    "test_dataloader = DataLoader(test_data, batch_size=batch_size)\n",
    "\n",
    "# look at the first iterate of the test dataloader\n",
    "\"\"\"\n",
    "for ... in ...:\n",
    "    ...\n",
    "    break\n",
    "\n",
    "\"\"\"\n",
    "\n",
    "for X, y in test_dataloader:\n",
    "    N, C, H, W, = X.shape\n",
    "    print(\"Shape of X: \", X.shape)\n",
    "    print(\"Shape of y: \", y.shape, y.dtype)\n",
    "    break"
   ]
  },
  {
   "cell_type": "markdown",
   "metadata": {},
   "source": [
    "Now let's specify which device we'd like to use.\n",
    "\n",
    "`torch.cuda.is_available()` returns `True` if a GPU is available, and `False` otherwise."
   ]
  },
  {
   "cell_type": "code",
   "execution_count": 10,
   "metadata": {},
   "outputs": [
    {
     "name": "stdout",
     "output_type": "stream",
     "text": [
      "Using cpu device\n"
     ]
    }
   ],
   "source": [
    "# specify device\n",
    "device = (\n",
    "    \"cuda\" if torch.cuda.is_available()\n",
    "    else \"cpu\"\n",
    ")\n",
    "print(f\"Using {device} device\")"
   ]
  },
  {
   "cell_type": "markdown",
   "metadata": {},
   "source": [
    "Let's create the most basic network, a fully connected neural network with one hidden layer.\n",
    "\n",
    "Recall:\n",
    "- The images are 28 by 28\n",
    "- The output is 10 classes\n",
    "- We need to flatten from 28 x 28 to 784\n",
    "- Place non-linearities between layers"
   ]
  },
  {
   "cell_type": "code",
   "execution_count": 13,
   "metadata": {},
   "outputs": [
    {
     "name": "stdout",
     "output_type": "stream",
     "text": [
      "NeuralNetwork(\n",
      "  (flatten): Flatten(start_dim=1, end_dim=-1)\n",
      "  (linear_relu_stack): Sequential(\n",
      "    (0): Linear(in_features=784, out_features=512, bias=True)\n",
      "    (1): ReLU()\n",
      "    (2): Linear(in_features=512, out_features=512, bias=True)\n",
      "    (3): ReLU()\n",
      "    (4): Linear(in_features=512, out_features=10, bias=True)\n",
      "  )\n",
      ")\n"
     ]
    }
   ],
   "source": [
    "# define the network\n",
    "class NeuralNetwork(nn.Module):\n",
    "    def __init__(self):\n",
    "        super().__init__()\n",
    "        # call the parent class constructor (nn.Module)\n",
    "\n",
    "        # network expects vectors, not 28 x 28 arrays\n",
    "        \"\"\"\n",
    "        self.flatten = ...\n",
    "        \"\"\"\n",
    "        self.flatten = nn.Flatten()\n",
    "\n",
    "        # compose the linear and non-linear operations\n",
    "        \"\"\"\n",
    "        self.linear_relu_stack = ...\n",
    "        \"\"\"\n",
    "\n",
    "        self.linear_relu_stack = nn.Sequential(\n",
    "            nn.Linear(28*28,512),\n",
    "            nn.ReLU(),\n",
    "            nn.Linear(512, 512),\n",
    "            nn.ReLU(),\n",
    "            nn.Linear(512, 10)\n",
    "        )\n",
    "\n",
    "    def forward(self, x): # this is how the network consumes input \n",
    "\n",
    "        # turn a 28 x 28 image into a vector\n",
    "        \"\"\"\n",
    "        x = ...\n",
    "        \"\"\"\n",
    "        x = self.flatten(x) # 28 x 28 to a 1D 28*28 tensor\n",
    "        logits = self.linear_relu_stack(x)\n",
    "\n",
    "        # pass the vector through the composed linear and non-linear operations\n",
    "        \"\"\"\n",
    "        logits = ...\n",
    "        \"\"\"\n",
    "        return logits\n",
    "\n",
    "# instantiate the network and move it to the device\n",
    "model = NeuralNetwork().to(device)\n",
    "print(model)"
   ]
  },
  {
   "cell_type": "markdown",
   "metadata": {},
   "source": [
    "Let's interrogate this model and see its parameters."
   ]
  },
  {
   "cell_type": "code",
   "execution_count": null,
   "metadata": {},
   "outputs": [],
   "source": [
    "# loop over model.parameters()\n",
    "for param in model.parameters():\n",
    "    \"\"\"\n",
    "    print(...)\n",
    "    \"\"\""
   ]
  },
  {
   "cell_type": "code",
   "execution_count": null,
   "metadata": {},
   "outputs": [],
   "source": [
    "# loop over model.named_parameters()\n",
    "for name, param in model.named_parameters():\n",
    "    \"\"\"\n",
    "    print(...)\n",
    "    \"\"\""
   ]
  },
  {
   "cell_type": "markdown",
   "metadata": {},
   "source": [
    "Choose a loss function and optimizer.\n",
    "\n",
    "- Classification: `nn.CrossEntropyLoss()`\n",
    "- Regression: `nn.MSELoss()`"
   ]
  },
  {
   "cell_type": "code",
   "execution_count": 14,
   "metadata": {},
   "outputs": [],
   "source": [
    "loss_fn = nn.CrossEntropyLoss()\n",
    "optimizer = torch.optim.SGD(model.parameters(), lr=1e-3)"
   ]
  },
  {
   "cell_type": "markdown",
   "metadata": {},
   "source": [
    "Next let's define the training loop.\n",
    "\n",
    "- Set the model to training mode\n",
    "- Iterate over the training dataset\n",
    "- Make a prediction by passing the input to the model\n",
    "- Calculate the loss\n",
    "- Compute the gradients\n",
    "- Update parameters\n",
    "- Zero the gradients for next iteration"
   ]
  },
  {
   "cell_type": "code",
   "execution_count": 15,
   "metadata": {},
   "outputs": [],
   "source": [
    "def train(dataloader, model, loss_fn, optimizer):\n",
    "    # get size of dataset for pretty printing\n",
    "    \"\"\"\n",
    "    size = ...\n",
    "    \"\"\"\n",
    "    size = len(dataloader.dataset)\n",
    "\n",
    "    # set model to training mode\n",
    "    \"\"\"\n",
    "    model.something()\n",
    "    \"\"\"\n",
    "    model.train()\n",
    "\n",
    "    # loop over the dataloader\n",
    "    \"\"\"\n",
    "    for ... in ...:\n",
    "        send data to device\n",
    "        compute prediction error\n",
    "        backpropagate\n",
    "        print progress\n",
    "    \"\"\"\n",
    "\n",
    "    for batch, (X, y) in enumerate(dataloader):\n",
    "        X, y = X.to(device), y.to(device)\n",
    "\n",
    "        pred = model(X)\n",
    "        loss = loss_fn(pred, y)\n",
    "\n",
    "        loss.backward()\n",
    "        optimizer.step()\n",
    "        optimizer.zero_grad()\n",
    "\n",
    "        if batch % 100 == 0:\n",
    "            loss, current = loss.item(), (batch + 1) * len(X)\n",
    "            print(f\"loss: {loss} [{current}/{size}]\")\n",
    "    "
   ]
  },
  {
   "cell_type": "markdown",
   "metadata": {},
   "source": [
    "Now let's define the test loop.\n",
    "\n",
    "- Set the model to evaluation mode\n",
    "- Specify that we don't want to calculate gradients\n",
    "- Iterate over the test dataset\n",
    "- Make a prediction on the input\n",
    "- Calculate and build the average loss"
   ]
  },
  {
   "cell_type": "code",
   "execution_count": 9,
   "metadata": {},
   "outputs": [],
   "source": [
    "def test(dataloader, model, loss_fn):\n",
    "    # get size of dataset for pretty printing\n",
    "    \"\"\"\n",
    "    size = ...\n",
    "    \"\"\"\n",
    "    # get number of batches to find average loss over a batch\n",
    "    \"\"\"\n",
    "    num_batches = ...\n",
    "    \"\"\"\n",
    "\n",
    "    # set model to evaluation mode\n",
    "    \"\"\"\n",
    "    model.something()\n",
    "    \"\"\"\n",
    "\n",
    "    # initialize loss and prediction counts\n",
    "    # without gradients, loop over dataloader\n",
    "    # and accumulate loss and correct predictions\n",
    "    # on the test dataset\n",
    "    \n",
    "    \"\"\"\n",
    "    with ...:\n",
    "        for ... in ...:\n",
    "            send data to device\n",
    "            compute prediction error\n",
    "            accumulate loss and correct predictions\n",
    "    \n",
    "    calculate test error\n",
    "    calculate accuracy\n",
    "    print results\n",
    "    \"\"\"\n"
   ]
  },
  {
   "cell_type": "markdown",
   "metadata": {},
   "source": [
    "We have all the pieces, so we can now train and test the model."
   ]
  },
  {
   "cell_type": "code",
   "execution_count": null,
   "metadata": {},
   "outputs": [],
   "source": [
    "# create the train & test loop! this is where things happen\n",
    "\"\"\"\n",
    "epochs = ...\n",
    "\"\"\"\n",
    "epochs = 5\n",
    "\"\"\"\n",
    "for ... in ...:\n",
    "    train(...)\n",
    "    test(...)\n",
    "\"\"\"\n",
    "for t in range(epochs):\n",
    "    train(train_dataloader, model, loss_fn, optimizer)"
   ]
  },
  {
   "cell_type": "markdown",
   "metadata": {},
   "source": [
    "We can save the model."
   ]
  },
  {
   "cell_type": "code",
   "execution_count": null,
   "metadata": {},
   "outputs": [],
   "source": [
    "\"\"\"\n",
    "torch.save(..., ...)\n",
    "\"\"\""
   ]
  },
  {
   "cell_type": "markdown",
   "metadata": {},
   "source": [
    "And load the model."
   ]
  },
  {
   "cell_type": "code",
   "execution_count": null,
   "metadata": {},
   "outputs": [],
   "source": [
    "\"\"\"\n",
    "model = ...\n",
    "model.load_state_dict(..., ...)\n",
    "\"\"\""
   ]
  },
  {
   "cell_type": "code",
   "execution_count": null,
   "metadata": {},
   "outputs": [],
   "source": [
    "classes = [\n",
    "    \"T-shirt/top\",\n",
    "    \"Trouser\",\n",
    "    \"Pullover\",\n",
    "    \"Dress\",\n",
    "    \"Coat\",\n",
    "    \"Sandal\",\n",
    "    \"Shirt\",\n",
    "    \"Sneaker\",\n",
    "    \"Bag\",\n",
    "    \"Ankle boot\",\n",
    "]\n",
    "\n",
    "model.eval()\n",
    "x, y = test_data[0][0], test_data[0][1]\n",
    "with torch.no_grad():\n",
    "    x = x.to(device)\n",
    "    pred = model(x)\n",
    "    predicted, actual = classes[pred[0].argmax(0)], classes[y]\n",
    "    print(f'Predicted: \"{predicted}\", Actual: \"{actual}\"')"
   ]
  }
 ],
 "metadata": {
  "kernelspec": {
   "display_name": "py311",
   "language": "python",
   "name": "python3"
  },
  "language_info": {
   "codemirror_mode": {
    "name": "ipython",
    "version": 3
   },
   "file_extension": ".py",
   "mimetype": "text/x-python",
   "name": "python",
   "nbconvert_exporter": "python",
   "pygments_lexer": "ipython3",
   "version": "3.11.9"
  }
 },
 "nbformat": 4,
 "nbformat_minor": 2
}
