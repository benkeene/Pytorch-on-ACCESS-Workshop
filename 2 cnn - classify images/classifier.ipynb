{
 "cells": [
  {
   "cell_type": "markdown",
   "metadata": {},
   "source": [
    "https://pytorch.org/tutorials/beginner/blitz/cifar10_tutorial.html"
   ]
  },
  {
   "cell_type": "markdown",
   "metadata": {},
   "source": [
    "Let's import the usual libraries, `torch`, its `nn` module, the `DataLoader` class, and `torchvision` for the dataset."
   ]
  },
  {
   "cell_type": "code",
   "execution_count": 1,
   "metadata": {},
   "outputs": [],
   "source": [
    "import torch\n",
    "from torch import nn\n",
    "from torch.utils.data import DataLoader\n",
    "import torchvision\n",
    "from torchvision import datasets\n",
    "import torchvision.transforms as transforms"
   ]
  },
  {
   "cell_type": "markdown",
   "metadata": {},
   "source": [
    "When working with CIFAR-10, we'll have to normalize the images.\n",
    "\n",
    "So we'll create a transform that not only converts to a tensor, but transforms the pixel values to something expected by the model.\n",
    "\n",
    "Additionally, let's create the train and test dataset objects."
   ]
  },
  {
   "cell_type": "code",
   "execution_count": null,
   "metadata": {},
   "outputs": [],
   "source": [
    "# create a transform to preprocess data\n",
    "transform = transforms.Compose([\n",
    "    transforms.ToTensor(),\n",
    "    transforms.Normalize((0.5,0.5,0.5), (0.5,0.5,0.5))\n",
    "])\n",
    "\n",
    "# set up training dataset of CIFAR10\n",
    "training_data = datasets.CIFAR10(\n",
    "    root=\"data\",\n",
    "    train=True,\n",
    "    download=True,\n",
    "    transform=transform\n",
    ")\n",
    "\n",
    "# set up a test dataset of CIFAR10\n",
    "test_data = datasets.CIFAR10(\n",
    "    root=\"data\",\n",
    "    train=False,\n",
    "    download=True,\n",
    "    transform=transform\n",
    ")"
   ]
  },
  {
   "cell_type": "markdown",
   "metadata": {},
   "source": [
    "Let's specify a batch size of 4, create the train and test dataloader objects, and check out the shapes of the images and labels."
   ]
  },
  {
   "cell_type": "code",
   "execution_count": null,
   "metadata": {},
   "outputs": [],
   "source": [
    "# specify batch size and set up data loaders\n",
    "\n",
    "batch_size = 4\n",
    "\n",
    "train_dataloader = DataLoader(\n",
    "    training_data,\n",
    "    batch_size=batch_size,\n",
    "    shuffle=True,\n",
    "    num_workers=2\n",
    ")\n",
    "\n",
    "test_dataloader = DataLoader(\n",
    "    test_data,\n",
    "    batch_size=batch_size,\n",
    "    shuffle=False,\n",
    "    num_workers=2\n",
    ")\n",
    "\n",
    "# grab the first iterate of the data loader and look at the shape\n",
    "\n",
    "for X, y in test_dataloader:\n",
    "    N, C, H, W = X.shape\n",
    "    print(\"Shape of X [N, C, H, W]: \", X.shape)\n",
    "    print(\"Shape of y: \", y.shape, y.dtype)\n",
    "    break\n",
    "\n",
    "classes = ('plane', 'car', 'bird', 'cat', 'deer', 'dog', 'frog', 'horse', 'ship', 'truck')"
   ]
  },
  {
   "cell_type": "code",
   "execution_count": 18,
   "metadata": {},
   "outputs": [
    {
     "name": "stdout",
     "output_type": "stream",
     "text": [
      "Using cpu device\n"
     ]
    }
   ],
   "source": [
    "# specify the device to use\n",
    "\n",
    "device = (\n",
    "    \"cuda\" if torch.cuda.is_available()\n",
    "    else \"cpu\"\n",
    ")\n",
    "print(f\"Using {device} device\")"
   ]
  },
  {
   "cell_type": "markdown",
   "metadata": {},
   "source": [
    "Let's visualize some images from the dataset with matplotlib."
   ]
  },
  {
   "cell_type": "code",
   "execution_count": 40,
   "metadata": {},
   "outputs": [
    {
     "data": {
      "image/png": "[encoded data removed]",
      "text/plain": [
       "<Figure size 640x480 with 1 Axes>"
      ]
     },
     "metadata": {},
     "output_type": "display_data"
    },
    {
     "name": "stdout",
     "output_type": "stream",
     "text": [
      "bird  deer  truck ship \n"
     ]
    }
   ],
   "source": [
    "import matplotlib.pyplot as plt\n",
    "import numpy as np\n",
    "\n",
    "# write a function to show an image\n",
    "def imshow(img):\n",
    "    img = img / 2 + 0.5\n",
    "    npimg = img.numpy()\n",
    "    plt.imshow(np.transpose(npimg, (1, 2, 0)))\n",
    "    plt.show()\n",
    "\n",
    "# an alternative way to get an iterate of the dataloader\n",
    "dataiter = iter(train_dataloader)\n",
    "images, labels = next(dataiter)\n",
    "\n",
    "imshow(torchvision.utils.make_grid(images))\n",
    "\n",
    "# print the labels corresponding to each image\n",
    "print(' '.join(f'{classes[labels[j]]:5s}' for j in range(batch_size)))"
   ]
  },
  {
   "cell_type": "markdown",
   "metadata": {},
   "source": [
    "Next, let's define the convolutional neural network class."
   ]
  },
  {
   "cell_type": "code",
   "execution_count": 21,
   "metadata": {},
   "outputs": [
    {
     "name": "stdout",
     "output_type": "stream",
     "text": [
      "NeuralNetwork(\n",
      "  (features): Sequential(\n",
      "    (0): Conv2d(3, 6, kernel_size=(5, 5), stride=(1, 1))\n",
      "    (1): ReLU()\n",
      "    (2): MaxPool2d(kernel_size=2, stride=2, padding=0, dilation=1, ceil_mode=False)\n",
      "    (3): Conv2d(6, 16, kernel_size=(5, 5), stride=(1, 1))\n",
      "    (4): ReLU()\n",
      "    (5): MaxPool2d(kernel_size=2, stride=2, padding=0, dilation=1, ceil_mode=False)\n",
      "  )\n",
      "  (classifier): Sequential(\n",
      "    (0): Linear(in_features=400, out_features=120, bias=True)\n",
      "    (1): ReLU()\n",
      "    (2): Linear(in_features=120, out_features=84, bias=True)\n",
      "    (3): ReLU()\n",
      "    (4): Linear(in_features=84, out_features=10, bias=True)\n",
      "  )\n",
      ")\n"
     ]
    }
   ],
   "source": [
    "# define the neural network\n",
    "class NeuralNetwork(nn.Module):\n",
    "    def __init__(self):\n",
    "        super().__init__()\n",
    "        # define the feature extraction layers\n",
    "        self.features = nn.Sequential(\n",
    "            nn.Conv2d(3, 6, 5),\n",
    "            nn.ReLU(),\n",
    "            nn.MaxPool2d(2, 2),\n",
    "            nn.Conv2d(6, 16, 5),\n",
    "            nn.ReLU(),\n",
    "            nn.MaxPool2d(2, 2)\n",
    "        )\n",
    "        # define the classification layers\n",
    "        self.classifier = nn.Sequential(\n",
    "            nn.Linear(16 * 5 * 5, 120),\n",
    "            nn.ReLU(),\n",
    "            nn.Linear(120, 84),\n",
    "            nn.ReLU(),\n",
    "            nn.Linear(84, 10)\n",
    "        )\n",
    "    \n",
    "    # define the forward pass\n",
    "    def forward(self, x):\n",
    "        x = self.features(x)\n",
    "        x = torch.flatten(x, 1) # flatten all dimensions except batch\n",
    "        x = self.classifier(x)\n",
    "        return x\n",
    "\n",
    "# instantiate the model\n",
    "model = NeuralNetwork().to(device)\n",
    "print(model)"
   ]
  },
  {
   "cell_type": "markdown",
   "metadata": {},
   "source": [
    "We can check out the shapes of the model's parameters."
   ]
  },
  {
   "cell_type": "code",
   "execution_count": 22,
   "metadata": {},
   "outputs": [
    {
     "name": "stdout",
     "output_type": "stream",
     "text": [
      "torch.Size([6, 3, 5, 5])\n",
      "True\n",
      "torch.Size([6])\n",
      "True\n",
      "torch.Size([16, 6, 5, 5])\n",
      "True\n",
      "torch.Size([16])\n",
      "True\n",
      "torch.Size([120, 400])\n",
      "True\n",
      "torch.Size([120])\n",
      "True\n",
      "torch.Size([84, 120])\n",
      "True\n",
      "torch.Size([84])\n",
      "True\n",
      "torch.Size([10, 84])\n",
      "True\n",
      "torch.Size([10])\n",
      "True\n"
     ]
    }
   ],
   "source": [
    "# check out the model parameters\n",
    "for param in model.parameters():\n",
    "    print(param.shape)\n",
    "    print(param.requires_grad)"
   ]
  },
  {
   "cell_type": "markdown",
   "metadata": {},
   "source": [
    "... and look at their names and values."
   ]
  },
  {
   "cell_type": "code",
   "execution_count": 23,
   "metadata": {},
   "outputs": [
    {
     "name": "stdout",
     "output_type": "stream",
     "text": [
      "Layer features.0.weight | Size: torch.Size([6, 3, 5, 5]) | Values: tensor([[[[-0.0796,  0.0783,  0.0609, -0.0713, -0.0435],\n",
      "          [ 0.0153,  0.0658, -0.0289, -0.0202, -0.0678],\n",
      "          [-0.0295,  0.0278, -0.1042,  0.0915,  0.0213],\n",
      "          [ 0.0661,  0.0680,  0.0678, -0.1124,  0.1098],\n",
      "          [ 0.0328,  0.0380, -0.0098,  0.0754,  0.0482]],\n",
      "\n",
      "         [[-0.1076,  0.0552,  0.0509,  0.0740, -0.0579],\n",
      "          [ 0.0217,  0.0815,  0.0002,  0.1089, -0.0823],\n",
      "          [-0.0276,  0.1121,  0.0405, -0.1054,  0.0228],\n",
      "          [ 0.1048,  0.0791,  0.1140, -0.0580, -0.0345],\n",
      "          [ 0.0518,  0.0529, -0.1081, -0.0852, -0.0901]],\n",
      "\n",
      "         [[ 0.0201,  0.0654, -0.1144,  0.0218, -0.0918],\n",
      "          [ 0.0652,  0.0784,  0.0452, -0.0471,  0.0423],\n",
      "          [-0.0216,  0.0120,  0.1108, -0.0654,  0.0444],\n",
      "          [ 0.1092,  0.0159,  0.1127,  0.1056,  0.0436],\n",
      "          [ 0.0899,  0.0940, -0.0293, -0.0566, -0.0277]]],\n",
      "\n",
      "\n",
      "        [[[ 0.0364,  0.0011, -0.0333,  0.0485, -0.0114],\n",
      "          [ 0.0024,  0.1039, -0.0944, -0.1095,  0.0095],\n",
      "          [-0.0842, -0.1137, -0.0934,  0.0976,  0.0871],\n",
      "          [ 0.0642,  0.0609,  0.0272,  0.0697,  0.0141],\n",
      "          [ 0.0242,  0.0026, -0.0943, -0.0698, -0.0744]],\n",
      "\n",
      "         [[ 0.0684,  0.0003, -0.0647, -0.0666, -0.0985],\n",
      "          [ 0.0828, -0.0340,  0.0592, -0.0164,  0.0125],\n",
      "          [-0.0390,  0.0381,  0.0995,  0.0862, -0.0993],\n",
      "          [-0.0053, -0.0219, -0.0441, -0.0373, -0.0774],\n",
      "          [-0.0732, -0.0607, -0.0169, -0.0346,  0.0443]],\n",
      "\n",
      "         [[-0.0635, -0.0080,  0.0375,  0.0477, -0.0534],\n",
      "          [-0.1030, -0.0642,  0.1110, -0.0274, -0.0516],\n",
      "          [-0.0172, -0.0074,  0.0913,  0.0670, -0.0416],\n",
      "          [-0.0691, -0.0137, -0.1115, -0.0946,  0.0961],\n",
      "          [ 0.0482,  0.0260,  0.0236, -0.1095, -0.0714]]]],\n",
      "       grad_fn=<SliceBackward0>) \n",
      "\n",
      "Layer features.0.bias | Size: torch.Size([6]) | Values: tensor([0.0431, 0.0177], grad_fn=<SliceBackward0>) \n",
      "\n",
      "Layer features.3.weight | Size: torch.Size([16, 6, 5, 5]) | Values: tensor([[[[ 0.0027,  0.0439,  0.0561, -0.0559, -0.0164],\n",
      "          [-0.0020, -0.0704,  0.0001, -0.0440, -0.0004],\n",
      "          [-0.0635,  0.0786,  0.0015, -0.0394, -0.0624],\n",
      "          [ 0.0100,  0.0795,  0.0376, -0.0042, -0.0444],\n",
      "          [ 0.0429, -0.0361, -0.0458,  0.0590, -0.0315]],\n",
      "\n",
      "         [[ 0.0580,  0.0594, -0.0303,  0.0320,  0.0798],\n",
      "          [-0.0158,  0.0584,  0.0229,  0.0671,  0.0291],\n",
      "          [ 0.0564, -0.0026, -0.0285,  0.0507,  0.0137],\n",
      "          [ 0.0626,  0.0608, -0.0765, -0.0642,  0.0496],\n",
      "          [ 0.0387, -0.0802,  0.0025,  0.0755,  0.0309]],\n",
      "\n",
      "         [[-0.0272,  0.0501,  0.0578,  0.0493,  0.0025],\n",
      "          [-0.0624, -0.0372, -0.0522,  0.0562,  0.0070],\n",
      "          [ 0.0540, -0.0775, -0.0814,  0.0680,  0.0775],\n",
      "          [-0.0467, -0.0704, -0.0183,  0.0607,  0.0535],\n",
      "          [-0.0571,  0.0215, -0.0267,  0.0033,  0.0352]],\n",
      "\n",
      "         [[ 0.0454, -0.0411, -0.0464,  0.0586, -0.0487],\n",
      "          [ 0.0601, -0.0392,  0.0597, -0.0063, -0.0503],\n",
      "          [-0.0015,  0.0649,  0.0327, -0.0500,  0.0712],\n",
      "          [-0.0417, -0.0554,  0.0396,  0.0430, -0.0399],\n",
      "          [ 0.0438, -0.0301, -0.0437, -0.0069, -0.0177]],\n",
      "\n",
      "         [[-0.0679,  0.0112,  0.0444, -0.0105,  0.0479],\n",
      "          [ 0.0627, -0.0488, -0.0784, -0.0599, -0.0074],\n",
      "          [-0.0718,  0.0144, -0.0611, -0.0775,  0.0573],\n",
      "          [-0.0643, -0.0206,  0.0225,  0.0615,  0.0433],\n",
      "          [ 0.0345,  0.0684,  0.0584,  0.0789, -0.0235]],\n",
      "\n",
      "         [[-0.0048, -0.0752,  0.0420, -0.0031, -0.0244],\n",
      "          [-0.0468, -0.0472,  0.0347,  0.0175, -0.0275],\n",
      "          [-0.0364,  0.0424,  0.0637,  0.0377, -0.0330],\n",
      "          [-0.0051, -0.0333,  0.0133,  0.0084, -0.0237],\n",
      "          [-0.0687, -0.0316,  0.0473, -0.0548,  0.0405]]],\n",
      "\n",
      "\n",
      "        [[[ 0.0118,  0.0299,  0.0362, -0.0532,  0.0316],\n",
      "          [-0.0073,  0.0496,  0.0540, -0.0424,  0.0294],\n",
      "          [-0.0423, -0.0674, -0.0506,  0.0783, -0.0438],\n",
      "          [-0.0683,  0.0095,  0.0780, -0.0067,  0.0383],\n",
      "          [-0.0542, -0.0293, -0.0551,  0.0580, -0.0253]],\n",
      "\n",
      "         [[ 0.0769,  0.0762, -0.0285, -0.0626, -0.0603],\n",
      "          [ 0.0603,  0.0590, -0.0725, -0.0126,  0.0376],\n",
      "          [ 0.0051,  0.0558, -0.0176,  0.0135,  0.0100],\n",
      "          [ 0.0628, -0.0066,  0.0170,  0.0436, -0.0457],\n",
      "          [ 0.0805, -0.0659,  0.0066,  0.0536, -0.0091]],\n",
      "\n",
      "         [[-0.0440,  0.0304,  0.0566,  0.0138, -0.0535],\n",
      "          [-0.0394,  0.0042,  0.0724, -0.0812, -0.0340],\n",
      "          [-0.0417,  0.0217,  0.0549,  0.0517, -0.0026],\n",
      "          [-0.0282,  0.0720,  0.0531, -0.0620,  0.0773],\n",
      "          [ 0.0689,  0.0741, -0.0550, -0.0507,  0.0310]],\n",
      "\n",
      "         [[-0.0049,  0.0386,  0.0305, -0.0423, -0.0518],\n",
      "          [ 0.0491, -0.0283, -0.0801,  0.0086,  0.0591],\n",
      "          [ 0.0023, -0.0584,  0.0450, -0.0022, -0.0445],\n",
      "          [-0.0760,  0.0297, -0.0596, -0.0369, -0.0101],\n",
      "          [-0.0258,  0.0756, -0.0280, -0.0675,  0.0077]],\n",
      "\n",
      "         [[ 0.0072,  0.0142, -0.0296,  0.0277,  0.0097],\n",
      "          [ 0.0219, -0.0697,  0.0516,  0.0172,  0.0709],\n",
      "          [ 0.0771, -0.0262, -0.0537, -0.0128, -0.0402],\n",
      "          [-0.0362,  0.0448,  0.0713,  0.0301,  0.0397],\n",
      "          [ 0.0052,  0.0752,  0.0627,  0.0559,  0.0281]],\n",
      "\n",
      "         [[-0.0549,  0.0609,  0.0763, -0.0274,  0.0633],\n",
      "          [ 0.0293,  0.0305,  0.0665,  0.0687, -0.0800],\n",
      "          [ 0.0765,  0.0517,  0.0791,  0.0600,  0.0656],\n",
      "          [ 0.0246,  0.0022,  0.0350,  0.0442, -0.0139],\n",
      "          [-0.0504,  0.0621, -0.0181,  0.0471,  0.0218]]]],\n",
      "       grad_fn=<SliceBackward0>) \n",
      "\n",
      "Layer features.3.bias | Size: torch.Size([16]) | Values: tensor([-0.0496, -0.0280], grad_fn=<SliceBackward0>) \n",
      "\n",
      "Layer classifier.0.weight | Size: torch.Size([120, 400]) | Values: tensor([[-3.0464e-03,  2.2722e-03,  3.9804e-02, -1.7300e-02, -1.4777e-04,\n",
      "         -3.9967e-02,  1.3244e-02,  2.2159e-02,  4.5551e-02, -4.7587e-02,\n",
      "          8.2673e-03, -8.8878e-03, -3.8451e-02,  2.3128e-02, -5.5502e-03,\n",
      "          3.6503e-03,  1.5672e-02,  1.6707e-03,  2.8708e-02,  3.4422e-02,\n",
      "          2.7575e-02, -1.1947e-02, -2.1690e-02, -3.6097e-02, -1.4575e-02,\n",
      "         -9.3903e-03,  4.5636e-02,  4.1365e-02, -3.4422e-02,  2.1848e-02,\n",
      "         -4.7933e-02,  2.4474e-02,  1.9097e-02, -1.7235e-02,  1.1496e-02,\n",
      "          4.1720e-02, -4.2223e-02,  4.6835e-02, -1.9847e-03,  3.8484e-02,\n",
      "         -8.8083e-03,  2.0045e-02,  4.9764e-02,  1.3351e-02,  2.4032e-02,\n",
      "         -1.0419e-02,  1.9234e-03,  2.4436e-02, -1.8965e-02, -4.7410e-03,\n",
      "         -4.8977e-02, -3.6444e-02, -2.2935e-02,  4.7096e-03,  4.9483e-02,\n",
      "         -1.9174e-02,  2.8483e-02, -2.4930e-03, -2.1219e-02,  5.2799e-03,\n",
      "         -3.3971e-02,  3.6932e-02,  4.2976e-02,  2.7002e-02,  4.2120e-02,\n",
      "          1.5998e-02, -9.6041e-03, -1.8977e-03,  2.8030e-02, -2.2208e-02,\n",
      "          3.1545e-02, -1.6407e-02, -4.1397e-02,  2.6912e-02,  2.4437e-03,\n",
      "          8.8235e-03,  4.0730e-02, -6.4352e-03, -1.4295e-02,  2.4136e-02,\n",
      "         -6.2566e-03,  6.3940e-03,  5.3075e-03,  3.1959e-02, -1.5782e-02,\n",
      "          1.0226e-02,  2.7463e-02, -4.9486e-02,  4.5906e-02, -4.5646e-02,\n",
      "          1.2517e-03, -3.3066e-02, -3.6964e-02, -3.0702e-02, -4.8427e-02,\n",
      "         -1.1899e-02,  9.6719e-03, -3.9304e-03,  3.0290e-02, -1.6560e-03,\n",
      "          3.0743e-02, -1.5521e-04,  1.8254e-02, -3.8508e-02, -4.0673e-02,\n",
      "          4.5755e-02, -7.5443e-03, -5.8088e-03,  6.7962e-03,  2.8408e-02,\n",
      "          2.5281e-02,  2.0267e-02,  3.8007e-02, -1.0769e-02,  8.5957e-03,\n",
      "          4.2918e-02, -3.1681e-02,  4.7541e-02,  1.9512e-02, -2.9486e-02,\n",
      "          2.9609e-02,  1.5349e-03, -4.7680e-02,  3.2859e-02, -3.3753e-02,\n",
      "         -2.8150e-02,  4.0949e-02, -3.6085e-02,  1.2610e-02,  3.0390e-02,\n",
      "         -2.7023e-03,  1.0468e-02,  5.2539e-03, -4.0491e-02, -1.4949e-02,\n",
      "         -2.0152e-03, -9.9013e-03,  3.2814e-02,  4.7954e-02,  1.5469e-02,\n",
      "          1.3193e-02,  3.3663e-02,  4.3616e-02,  3.6744e-02, -7.7115e-03,\n",
      "          3.6960e-02,  5.3099e-04, -4.8136e-02, -1.9049e-02, -1.2354e-02,\n",
      "         -2.4973e-02, -3.1852e-02,  1.3808e-02,  3.3231e-02, -2.1483e-02,\n",
      "          3.8408e-02, -4.6414e-02,  2.2815e-02,  9.6738e-03, -4.9673e-02,\n",
      "          4.7689e-02,  2.3236e-02, -1.7164e-02,  1.6452e-02, -4.2441e-02,\n",
      "         -3.2607e-03, -3.2636e-02,  3.1198e-03,  1.1840e-02,  1.6699e-02,\n",
      "          6.6276e-04,  2.9822e-02,  4.4939e-02,  4.4736e-02,  4.2387e-02,\n",
      "          1.1130e-02, -1.9006e-02,  1.4531e-02,  4.6623e-03,  2.3608e-02,\n",
      "          4.3287e-02,  4.9833e-02,  7.2742e-03, -2.0399e-02,  5.9902e-03,\n",
      "          3.0471e-02,  5.6329e-03, -1.5433e-02, -3.3779e-02, -2.9597e-02,\n",
      "         -4.9974e-02,  2.7606e-02, -4.1271e-03, -2.2057e-02, -1.1150e-02,\n",
      "         -1.3889e-02, -2.4038e-02, -4.8483e-02,  2.6188e-03,  2.7611e-02,\n",
      "         -1.2125e-02, -1.0224e-02, -2.0193e-02, -4.0052e-02, -3.5891e-02,\n",
      "         -9.3308e-03,  3.8994e-02,  1.2042e-02, -3.5639e-02,  1.5774e-02,\n",
      "          1.3968e-02,  1.1378e-02,  1.4387e-03, -4.3287e-02,  1.3748e-02,\n",
      "          3.2520e-02,  3.5669e-02, -4.7897e-02,  1.7594e-02,  2.4177e-02,\n",
      "          3.6895e-02,  3.2790e-02, -4.9842e-02,  1.2686e-02, -3.1047e-02,\n",
      "          2.3285e-03,  3.7082e-02, -4.9129e-02,  9.2762e-03,  4.8400e-02,\n",
      "         -4.6666e-03, -4.4847e-02,  4.9062e-02, -2.1853e-02, -4.1812e-02,\n",
      "          1.0192e-02,  8.2529e-04, -3.9740e-02, -1.8986e-02,  1.2616e-02,\n",
      "          1.0685e-02, -1.1677e-02,  9.6508e-03,  3.5306e-02, -2.5719e-02,\n",
      "          1.9314e-02, -9.9580e-03, -1.1774e-02,  2.9218e-02, -4.7739e-02,\n",
      "         -1.0596e-03, -3.3214e-02, -4.5934e-03,  4.3579e-02, -3.0527e-02,\n",
      "         -1.8405e-02,  1.3747e-02,  1.6116e-03, -4.1852e-02,  3.2921e-02,\n",
      "         -4.3428e-02,  1.5071e-02,  2.7935e-02, -1.4740e-02,  4.5608e-02,\n",
      "         -2.4861e-02,  1.9327e-02,  1.8907e-02, -3.6055e-02,  1.3964e-02,\n",
      "          3.5344e-02,  2.4723e-02,  2.0733e-02, -3.9478e-02, -3.6981e-02,\n",
      "          6.5080e-03, -9.8699e-03,  2.5711e-03, -4.3470e-02,  2.9160e-03,\n",
      "          5.2023e-05, -4.9109e-02,  2.8585e-02, -3.1509e-02, -4.5364e-02,\n",
      "         -1.6186e-02, -2.8458e-02,  1.0304e-02, -1.7524e-02,  3.1056e-02,\n",
      "         -4.8480e-02,  1.2087e-03, -1.2049e-03,  3.1223e-02,  7.9098e-03,\n",
      "          4.2751e-02,  1.0185e-02, -1.9008e-02, -3.1807e-02,  3.4309e-03,\n",
      "          3.3925e-02, -4.1577e-02, -6.5542e-03,  1.2148e-02, -1.7514e-02,\n",
      "         -1.8569e-02,  1.7310e-03,  3.6070e-02, -4.0970e-02,  1.3398e-03,\n",
      "         -1.4629e-02,  4.4996e-02,  2.4689e-03, -9.9128e-03,  5.2558e-03,\n",
      "          9.3685e-04, -1.4489e-02,  1.9521e-02, -1.3188e-02, -4.7635e-02,\n",
      "         -2.4053e-02,  4.0200e-02,  4.2160e-02,  4.6822e-02, -4.6402e-02,\n",
      "          2.4567e-02, -1.1755e-02, -1.0910e-02, -4.1210e-02, -2.2651e-03,\n",
      "          4.4859e-03,  5.9810e-03, -4.9806e-02,  1.3521e-02, -3.8681e-02,\n",
      "          3.6814e-02, -4.9484e-02, -1.6488e-02, -2.9569e-02, -2.0147e-02,\n",
      "          1.4344e-02, -2.3895e-02, -1.8417e-02, -9.9535e-03, -1.2288e-03,\n",
      "         -9.5110e-03,  2.7681e-02, -2.4091e-02,  2.6986e-02, -4.8038e-02,\n",
      "          1.8291e-02, -4.9585e-03,  3.3243e-02,  9.9530e-03, -2.5205e-02,\n",
      "         -3.6646e-02,  1.4448e-02,  3.1329e-02,  4.6195e-02, -6.7315e-03,\n",
      "         -4.5034e-02, -2.8391e-03,  4.2468e-02, -6.7204e-03, -1.9736e-02,\n",
      "         -4.0176e-02, -7.8298e-03,  4.9211e-03,  4.4553e-02, -4.9934e-02,\n",
      "         -9.9288e-03, -1.8094e-02,  4.0441e-02,  1.3489e-02,  3.8771e-02,\n",
      "          4.0345e-03,  3.9455e-02,  2.8990e-02, -6.2145e-03,  3.6140e-02,\n",
      "         -2.1149e-02, -2.5494e-02, -3.3212e-02,  3.4532e-02,  4.2097e-02,\n",
      "         -4.4196e-02, -1.0358e-02,  4.9887e-02,  4.4170e-02,  1.1968e-02,\n",
      "          6.0248e-04, -3.4858e-02, -3.0692e-02, -1.2815e-02, -5.0057e-03,\n",
      "         -2.1720e-02,  1.1278e-02, -8.0443e-03, -2.4470e-02,  2.3668e-02],\n",
      "        [ 1.2740e-02,  1.9803e-02, -1.0558e-02, -3.4770e-02,  1.4976e-02,\n",
      "          3.8017e-02,  2.6138e-02,  4.4644e-03,  1.0987e-02,  8.3898e-03,\n",
      "         -8.8631e-03,  4.9500e-02,  9.4630e-03, -1.6412e-02, -1.7869e-03,\n",
      "          3.3902e-02, -4.8231e-03, -2.5354e-02,  1.1271e-03,  4.1587e-02,\n",
      "         -4.7146e-02,  4.8642e-02, -4.9743e-03,  1.0412e-02,  2.6649e-02,\n",
      "         -6.7688e-03, -4.6390e-04,  3.5410e-02,  1.6895e-02, -3.9268e-03,\n",
      "          2.7459e-02, -2.6173e-02, -3.9999e-04, -1.2556e-02,  1.2240e-02,\n",
      "          2.0257e-02, -2.3707e-02,  1.5226e-03,  3.9231e-02, -3.1644e-03,\n",
      "          6.1172e-04,  4.7123e-02,  2.4357e-02,  1.0262e-02, -2.7510e-02,\n",
      "          4.5487e-02,  4.5000e-02,  1.8464e-02, -4.3132e-02,  4.0938e-02,\n",
      "          6.8417e-03, -3.1390e-02, -2.6378e-02, -2.9106e-02,  8.2610e-03,\n",
      "          1.1006e-02, -3.6807e-02,  2.5086e-02,  1.2078e-02,  4.2778e-02,\n",
      "          4.2747e-02, -2.9616e-02, -3.4852e-02, -3.7697e-02,  6.9675e-03,\n",
      "          2.2072e-02, -3.0725e-02, -1.3615e-02,  3.6184e-02,  1.7962e-02,\n",
      "         -1.6451e-02, -1.2962e-02, -4.0090e-02, -3.6979e-02,  4.9742e-02,\n",
      "         -3.6618e-02,  1.0459e-02, -1.1934e-03,  3.4930e-02,  2.4845e-02,\n",
      "          2.1305e-02,  4.2589e-02, -1.6834e-02, -9.0235e-03,  4.1054e-02,\n",
      "          3.9853e-02,  4.1331e-03,  4.8208e-02,  3.4912e-02, -3.6557e-02,\n",
      "          3.5811e-02, -4.1027e-02,  1.2596e-02, -8.7954e-03,  4.3675e-03,\n",
      "         -1.4193e-02, -3.7020e-02, -2.6885e-02,  3.6663e-02, -4.7922e-02,\n",
      "          8.4907e-03, -1.6980e-02, -1.4731e-02, -2.5851e-02, -2.5948e-03,\n",
      "         -4.8447e-02, -4.4181e-03, -7.6229e-03,  3.7681e-02, -2.3955e-02,\n",
      "          4.8148e-02,  3.5114e-02, -1.3182e-02, -9.6000e-03,  3.5293e-02,\n",
      "         -3.3853e-02,  3.7181e-02,  4.3652e-02,  4.4416e-02, -1.1387e-02,\n",
      "          1.9837e-02, -4.7378e-03, -4.7163e-02,  3.3720e-02,  2.3935e-02,\n",
      "          2.0397e-02, -8.0656e-03,  1.2027e-02,  4.8162e-04,  3.9418e-02,\n",
      "         -1.9491e-02,  2.5055e-02, -4.7689e-02,  4.5217e-03,  2.0265e-02,\n",
      "          4.9572e-02,  3.5191e-02, -7.3928e-03, -3.1584e-02,  4.0751e-02,\n",
      "         -2.7637e-02,  4.3275e-02,  4.4077e-02,  1.5236e-02,  1.4930e-02,\n",
      "         -3.6626e-02, -2.8213e-02, -3.8600e-02, -1.0236e-03,  2.2037e-02,\n",
      "          7.5132e-03, -3.7321e-02, -1.1085e-02, -4.4504e-02,  4.3858e-02,\n",
      "          4.4670e-02, -2.5874e-02,  3.3721e-02, -3.2435e-02, -1.1602e-02,\n",
      "          4.6380e-02,  8.6478e-03,  2.8047e-02,  4.9243e-02,  3.6603e-02,\n",
      "          1.7213e-03, -1.5048e-02, -2.5467e-02,  2.2227e-02, -1.9670e-02,\n",
      "         -2.0724e-02,  3.3242e-02,  2.9669e-04, -6.5265e-03, -1.7559e-02,\n",
      "          3.4150e-02, -1.1730e-02,  4.9851e-02,  2.9129e-02,  3.6732e-02,\n",
      "         -4.0924e-02, -4.0999e-02, -6.9890e-03,  4.0072e-02, -8.3641e-03,\n",
      "         -1.7011e-02, -4.2908e-02, -6.5543e-03,  3.2166e-02,  1.3812e-02,\n",
      "          9.0158e-05,  1.6640e-02, -3.4244e-02, -3.1756e-02, -3.9511e-02,\n",
      "          2.2210e-02,  1.4211e-02,  5.8265e-04, -3.1559e-02, -1.2110e-03,\n",
      "          3.9800e-02,  3.9629e-02,  1.5004e-02, -1.9936e-02,  4.6127e-02,\n",
      "         -7.9711e-03, -1.9139e-02,  9.7444e-03,  2.1358e-02,  1.5935e-02,\n",
      "         -3.6052e-03, -3.4440e-02, -4.4839e-02, -4.2623e-02,  3.9287e-02,\n",
      "          1.1795e-02, -3.6237e-02, -3.5414e-02,  4.9655e-02, -3.4407e-02,\n",
      "          2.3919e-02,  3.2011e-03,  4.0884e-02, -2.8787e-03,  2.3228e-02,\n",
      "         -2.2534e-02,  4.6246e-02,  3.9786e-02, -3.5470e-02, -1.7829e-02,\n",
      "         -1.8253e-02,  2.4239e-02,  5.5621e-03,  3.5061e-02,  1.1670e-02,\n",
      "         -3.3547e-02,  2.4466e-02, -4.0972e-02, -3.8038e-02, -3.9994e-02,\n",
      "          1.2901e-02, -4.1617e-02, -2.5229e-02,  2.7451e-02,  2.8003e-02,\n",
      "         -1.7582e-03,  2.6284e-02, -8.9496e-03,  3.4789e-04,  4.0061e-02,\n",
      "         -3.3488e-02,  3.2013e-02,  1.6055e-03,  2.4400e-02,  1.2234e-03,\n",
      "         -1.7025e-02,  1.4805e-02,  4.4720e-02,  3.1313e-02, -4.5510e-02,\n",
      "          1.2628e-02, -3.1916e-02, -2.6689e-02,  4.1841e-02,  9.4407e-03,\n",
      "         -3.1537e-02, -4.5456e-02, -2.8514e-02, -8.1555e-03, -3.8711e-02,\n",
      "         -1.8906e-02,  3.9135e-02,  7.2768e-04,  4.4633e-02, -4.8609e-02,\n",
      "          1.1176e-02,  2.1653e-02, -1.4575e-02, -3.3447e-02, -3.2181e-02,\n",
      "          2.8022e-02, -3.0804e-02, -4.1706e-02, -9.6289e-03,  2.6959e-03,\n",
      "         -2.7759e-02, -1.2494e-02,  2.0513e-03, -1.5170e-02,  7.7077e-03,\n",
      "          4.4201e-02, -7.6835e-03, -1.0428e-03,  2.6344e-02,  2.1383e-02,\n",
      "          3.4343e-02, -3.4455e-02,  1.8352e-02,  1.8953e-02,  2.3195e-02,\n",
      "          3.1593e-02, -4.4665e-02,  9.2164e-03,  2.0695e-02,  1.6594e-02,\n",
      "         -2.2224e-02,  1.8659e-02, -4.2405e-02,  1.9642e-02,  2.2049e-02,\n",
      "         -2.9871e-02,  3.6676e-02, -1.9206e-02, -3.1473e-02,  7.3152e-03,\n",
      "         -1.1334e-02,  2.7734e-02,  4.8766e-02, -1.8181e-03, -3.2604e-02,\n",
      "         -1.3970e-02,  2.1617e-02, -2.1299e-03, -2.4819e-02, -2.3536e-02,\n",
      "          3.6179e-02,  3.3363e-02, -1.6651e-02,  3.6892e-02, -1.1201e-02,\n",
      "         -3.5183e-02,  1.8134e-02,  1.7504e-02, -4.7812e-02,  6.0147e-03,\n",
      "         -4.9464e-02,  2.6516e-03, -3.8004e-02,  2.4976e-02, -4.6573e-02,\n",
      "         -3.8270e-02,  4.3368e-02, -7.2405e-03,  1.2447e-02, -1.0426e-02,\n",
      "          4.9433e-02, -4.3149e-02,  3.4558e-02,  3.8336e-02, -4.8829e-02,\n",
      "         -4.3534e-02,  4.7975e-02, -8.5474e-03,  4.1710e-02, -6.6686e-03,\n",
      "         -1.4599e-02,  3.3078e-02,  2.8774e-02, -3.2939e-03,  2.0522e-02,\n",
      "         -4.7934e-02,  3.0094e-02, -9.5046e-03, -7.5721e-03,  1.7207e-02,\n",
      "          2.7761e-02,  4.1443e-03, -1.8977e-02, -2.6836e-02, -2.5316e-02,\n",
      "          1.1117e-02, -2.7506e-02,  1.9955e-02,  9.6787e-03,  3.6790e-02,\n",
      "         -4.3852e-02,  2.4193e-02,  4.9671e-02,  2.7751e-02, -7.2063e-03,\n",
      "          4.0200e-03,  4.0215e-02,  4.0327e-02, -1.3575e-03,  3.7765e-02,\n",
      "          4.3427e-02,  2.6683e-02,  1.1352e-02, -2.6352e-02, -4.1082e-02,\n",
      "          2.3250e-02, -9.3749e-03, -3.4904e-02,  8.4356e-03, -4.3775e-02,\n",
      "         -4.7309e-04, -2.0252e-03,  3.8470e-02, -1.6422e-03,  3.5967e-02]],\n",
      "       grad_fn=<SliceBackward0>) \n",
      "\n",
      "Layer classifier.0.bias | Size: torch.Size([120]) | Values: tensor([-0.0416, -0.0070], grad_fn=<SliceBackward0>) \n",
      "\n",
      "Layer classifier.2.weight | Size: torch.Size([84, 120]) | Values: tensor([[-0.0631,  0.0884, -0.0698, -0.0574,  0.0003, -0.0115, -0.0890,  0.0148,\n",
      "          0.0474,  0.0848,  0.0479, -0.0764, -0.0508,  0.0656, -0.0059,  0.0843,\n",
      "          0.0639,  0.0156,  0.0875, -0.0651, -0.0122, -0.0490,  0.0142, -0.0037,\n",
      "          0.0663, -0.0035,  0.0742,  0.0007, -0.0073, -0.0842,  0.0468, -0.0370,\n",
      "          0.0734,  0.0274, -0.0275, -0.0554, -0.0856, -0.0769, -0.0881,  0.0093,\n",
      "         -0.0848, -0.0801,  0.0005, -0.0888, -0.0051,  0.0494, -0.0011, -0.0557,\n",
      "         -0.0797, -0.0123, -0.0278, -0.0301,  0.0819, -0.0543, -0.0842, -0.0039,\n",
      "         -0.0536,  0.0579, -0.0175, -0.0389,  0.0797, -0.0606,  0.0507,  0.0632,\n",
      "          0.0754,  0.0239, -0.0755,  0.0669, -0.0084, -0.0629,  0.0143,  0.0502,\n",
      "         -0.0521,  0.0657, -0.0761,  0.0197, -0.0206,  0.0226, -0.0194, -0.0138,\n",
      "         -0.0001,  0.0251, -0.0125, -0.0693, -0.0593,  0.0670, -0.0286, -0.0293,\n",
      "         -0.0907,  0.0543,  0.0684, -0.0248, -0.0895,  0.0411,  0.0335, -0.0883,\n",
      "         -0.0351,  0.0624,  0.0286, -0.0284,  0.0756,  0.0359, -0.0280, -0.0478,\n",
      "          0.0646,  0.0024,  0.0444, -0.0572,  0.0836, -0.0896, -0.0443, -0.0332,\n",
      "         -0.0529, -0.0320,  0.0496,  0.0506,  0.0488, -0.0806,  0.0906, -0.0159],\n",
      "        [ 0.0881,  0.0861, -0.0193, -0.0327,  0.0031,  0.0162,  0.0061,  0.0882,\n",
      "         -0.0751, -0.0283, -0.0493, -0.0810, -0.0660,  0.0217,  0.0698, -0.0119,\n",
      "          0.0615, -0.0575, -0.0063, -0.0803, -0.0781,  0.0833, -0.0430, -0.0373,\n",
      "         -0.0150, -0.0043,  0.0437,  0.0349,  0.0831,  0.0317, -0.0456, -0.0314,\n",
      "         -0.0354, -0.0742,  0.0678, -0.0805,  0.0553, -0.0601, -0.0562, -0.0511,\n",
      "         -0.0060, -0.0544, -0.0452, -0.0806,  0.0260,  0.0041, -0.0769, -0.0795,\n",
      "          0.0061,  0.0091, -0.0043, -0.0362, -0.0173,  0.0833, -0.0449,  0.0274,\n",
      "         -0.0643, -0.0544, -0.0738, -0.0793,  0.0400,  0.0907, -0.0335, -0.0388,\n",
      "         -0.0652, -0.0113, -0.0514, -0.0025,  0.0530,  0.0329,  0.0142,  0.0712,\n",
      "         -0.0259,  0.0022,  0.0240,  0.0689,  0.0692,  0.0249,  0.0798,  0.0661,\n",
      "         -0.0365, -0.0717, -0.0463,  0.0680,  0.0091, -0.0744, -0.0027,  0.0010,\n",
      "          0.0123,  0.0708,  0.0077, -0.0578, -0.0269, -0.0046, -0.0588, -0.0527,\n",
      "         -0.0069,  0.0501,  0.0155, -0.0549,  0.0126,  0.0802,  0.0497, -0.0398,\n",
      "         -0.0638, -0.0518,  0.0137,  0.0903, -0.0343, -0.0150,  0.0617,  0.0269,\n",
      "          0.0448,  0.0455, -0.0590, -0.0656, -0.0178, -0.0214, -0.0870,  0.0239]],\n",
      "       grad_fn=<SliceBackward0>) \n",
      "\n",
      "Layer classifier.2.bias | Size: torch.Size([84]) | Values: tensor([ 0.0493, -0.0032], grad_fn=<SliceBackward0>) \n",
      "\n",
      "Layer classifier.4.weight | Size: torch.Size([10, 84]) | Values: tensor([[ 0.0591, -0.0513, -0.0183,  0.0067,  0.0775,  0.0310,  0.0613,  0.0055,\n",
      "          0.0207, -0.0546,  0.0352, -0.0380,  0.0168,  0.0843, -0.0592, -0.1006,\n",
      "          0.0216, -0.0765,  0.0183,  0.0175,  0.1065, -0.0270,  0.0035, -0.0476,\n",
      "          0.0438,  0.1078,  0.0961,  0.0477, -0.0980,  0.0053, -0.0358,  0.0951,\n",
      "         -0.0092, -0.0545,  0.1010,  0.0668, -0.1009,  0.1021, -0.1054, -0.0790,\n",
      "          0.0672,  0.0239,  0.0737, -0.0108,  0.0238,  0.0227, -0.0932, -0.0476,\n",
      "          0.0397,  0.0768,  0.0171,  0.0851, -0.0442,  0.0318,  0.0793,  0.0450,\n",
      "          0.0854,  0.0803, -0.0053,  0.0656,  0.1008, -0.0873,  0.0252,  0.0827,\n",
      "         -0.0452,  0.0481, -0.0928, -0.0583, -0.0685, -0.0794, -0.0021,  0.0060,\n",
      "          0.0746, -0.0701,  0.0732,  0.0989,  0.0776, -0.0242,  0.0195, -0.0954,\n",
      "          0.0513, -0.1041, -0.0986, -0.0154],\n",
      "        [ 0.0614,  0.0697,  0.0852, -0.0983,  0.1023,  0.0895, -0.0706,  0.0395,\n",
      "         -0.0122,  0.0756,  0.1014,  0.0761,  0.0252, -0.0554, -0.0344,  0.0516,\n",
      "          0.1040,  0.0285,  0.1074, -0.0457,  0.0786,  0.0342,  0.0539, -0.0578,\n",
      "          0.0722,  0.0109, -0.0473, -0.0500, -0.0893,  0.0157, -0.0725, -0.0867,\n",
      "          0.0050,  0.0081, -0.0110, -0.0025, -0.0484,  0.0994,  0.1003, -0.0199,\n",
      "         -0.0173,  0.0910, -0.1018,  0.0554, -0.0790,  0.0699, -0.0260, -0.0605,\n",
      "          0.0704,  0.0247, -0.0584,  0.0822, -0.0384,  0.0510,  0.0384,  0.0374,\n",
      "          0.0572, -0.0471, -0.0990, -0.0686, -0.0202, -0.0942,  0.0329,  0.0137,\n",
      "          0.0255,  0.0143,  0.0274,  0.0979, -0.0624,  0.0187, -0.1085, -0.0136,\n",
      "         -0.0287,  0.0483,  0.0401,  0.0012,  0.0179, -0.0530, -0.0924, -0.0669,\n",
      "          0.0052, -0.0730, -0.0029,  0.0151]], grad_fn=<SliceBackward0>) \n",
      "\n",
      "Layer classifier.4.bias | Size: torch.Size([10]) | Values: tensor([-0.0484, -0.0573], grad_fn=<SliceBackward0>) \n",
      "\n"
     ]
    }
   ],
   "source": [
    "# check out the model's named parameters\n",
    "for name, param in model.named_parameters():\n",
    "    print(f\"Layer {name} | Size: {param.shape} | Values: {param[:2]} \\n\")"
   ]
  },
  {
   "cell_type": "markdown",
   "metadata": {},
   "source": [
    "Let's use Cross Entropy Loss since we're doing classification.\n",
    "\n",
    "Additionally, let's set up our optimizer."
   ]
  },
  {
   "cell_type": "code",
   "execution_count": 24,
   "metadata": {},
   "outputs": [],
   "source": [
    "loss_fn = nn.CrossEntropyLoss()\n",
    "optimizer = torch.optim.SGD(model.parameters(), lr=0.001, momentum=0.9)"
   ]
  },
  {
   "cell_type": "markdown",
   "metadata": {},
   "source": [
    "Now we'll do two training passes over the dataset."
   ]
  },
  {
   "cell_type": "code",
   "execution_count": null,
   "metadata": {},
   "outputs": [],
   "source": [
    "# loop over the dataset twice\n",
    "for epoch in range(2):\n",
    "    \n",
    "    # keep track of the running loss\n",
    "    running_loss = 0.0\n",
    "    \n",
    "    # loop over the dataset in batches\n",
    "    for i, data in enumerate(train_dataloader, 0):\n",
    "        # grab the input and labels\n",
    "        inputs, labels = data\n",
    "        \n",
    "        optimizer.zero_grad()\n",
    "        \n",
    "        # pass the inputs through the model\n",
    "        outputs = model(inputs)\n",
    "\n",
    "        # calculate loss and backpropagate\n",
    "        loss = loss_fn(outputs, labels)\n",
    "        loss.backward()\n",
    "        optimizer.step()\n",
    "        \n",
    "        # tally the loss and print every 2000 mini-batches\n",
    "        running_loss += loss.item()\n",
    "        if i % 2000 == 1999:\n",
    "            print(f'[{epoch + 1}, {i + 1:5d}] loss: {running_loss / 2000:.3f}')\n",
    "            running_loss = 0.0\n",
    "\n",
    "print('Finished Training')"
   ]
  },
  {
   "cell_type": "markdown",
   "metadata": {},
   "source": [
    "Let's save the model."
   ]
  },
  {
   "cell_type": "code",
   "execution_count": 11,
   "metadata": {},
   "outputs": [],
   "source": [
    "path = './cifar_net.pth'\n",
    "torch.save(model.state_dict(), path)"
   ]
  },
  {
   "cell_type": "markdown",
   "metadata": {},
   "source": [
    "We'll take a batch of images from the test set and see how the model performs."
   ]
  },
  {
   "cell_type": "code",
   "execution_count": null,
   "metadata": {},
   "outputs": [],
   "source": [
    "dataiter = iter(test_dataloader)\n",
    "images, labels = next(dataiter)\n",
    "\n",
    "imshow(torchvision.utils.make_grid(images))\n",
    "print('GroundTruth: ', ' '.join(f'{classes[labels[j]]:5s}' for j in range(batch_size)))"
   ]
  },
  {
   "cell_type": "markdown",
   "metadata": {},
   "source": [
    "Re-instantiating the model from the saved file, we can see how it performs on the same batch of images."
   ]
  },
  {
   "cell_type": "code",
   "execution_count": null,
   "metadata": {},
   "outputs": [],
   "source": [
    "model = NeuralNetwork()\n",
    "model.load_state_dict(torch.load(path, weights_only=True))"
   ]
  },
  {
   "cell_type": "markdown",
   "metadata": {},
   "source": [
    "Feed the batch of images, and confirm the shape of the output."
   ]
  },
  {
   "cell_type": "code",
   "execution_count": 35,
   "metadata": {},
   "outputs": [
    {
     "name": "stdout",
     "output_type": "stream",
     "text": [
      "tensor([[-5.2509e-02, -6.0919e-02,  2.6410e-02,  3.8475e-03, -4.5468e-02,\n",
      "         -1.3457e-02, -1.0879e-01,  4.1445e-02, -1.3078e-01, -1.8186e-02],\n",
      "        [-4.3990e-02, -5.9157e-02,  3.0198e-02, -1.0414e-04, -4.2513e-02,\n",
      "         -5.4928e-03, -1.0223e-01,  6.8303e-02, -1.3088e-01, -2.8396e-02],\n",
      "        [-4.2971e-02, -4.6533e-02,  2.6440e-02, -4.4020e-03, -3.8333e-02,\n",
      "         -1.3755e-02, -9.5325e-02,  7.2662e-02, -1.2118e-01, -2.1165e-02],\n",
      "        [-4.5617e-02, -5.9239e-02,  2.4477e-02, -2.0446e-03, -4.6018e-02,\n",
      "         -1.5602e-02, -1.0133e-01,  6.2107e-02, -1.2850e-01, -2.4745e-02]],\n",
      "       grad_fn=<AddmmBackward0>)\n",
      "batch_size: 4, classes: 10\n"
     ]
    }
   ],
   "source": [
    "outputs = model(images)\n",
    "\n",
    "print(outputs)\n",
    "\n",
    "batch_size, likelihoods = outputs.shape\n",
    "\n",
    "print(f'batch_size: {batch_size}, classes: {likelihoods}')"
   ]
  },
  {
   "cell_type": "code",
   "execution_count": 25,
   "metadata": {},
   "outputs": [
    {
     "name": "stdout",
     "output_type": "stream",
     "text": [
      "Predicted:  cat   dog   deer  horse\n"
     ]
    }
   ],
   "source": [
    "_, predicted = torch.max(outputs, 1)\n",
    "\n",
    "print('Predicted: ', ' '.join(f'{classes[predicted[j]]:5s}' for j in range(batch_size)))"
   ]
  },
  {
   "cell_type": "markdown",
   "metadata": {},
   "source": [
    "Let's iterate over the test set and compare the model's predictions with the actual labels."
   ]
  },
  {
   "cell_type": "code",
   "execution_count": null,
   "metadata": {},
   "outputs": [],
   "source": [
    "correct = 0\n",
    "total = 0\n",
    "\n",
    "with torch.no_grad():\n",
    "    for data in test_dataloader:\n",
    "        images, labels = data\n",
    "        outputs = model(images)\n",
    "        _, predicted = torch.max(outputs.data, 1)\n",
    "        total += labels.size(0)\n",
    "        correct += (predicted == labels).sum().item()\n",
    "\n",
    "print(f'Accuracy of the network on the 10000 test images: {100 * correct // total}%')"
   ]
  },
  {
   "cell_type": "markdown",
   "metadata": {},
   "source": [
    "We can do the same accuracy calculation for each class."
   ]
  },
  {
   "cell_type": "code",
   "execution_count": null,
   "metadata": {},
   "outputs": [],
   "source": [
    "correct_pred = {classname: 0 for classname in classes}\n",
    "total_pred = {classname: 0 for classname in classes}\n",
    "\n",
    "with torch.no_grad():\n",
    "    for data in test_dataloader:\n",
    "        images, labels = data\n",
    "        outputs = model(images)\n",
    "        _, predictions = torch.max(outputs, 1)\n",
    "        for label, prediction in zip(labels, predictions):\n",
    "            if label == prediction:\n",
    "                correct_pred[classes[label]] += 1\n",
    "            total_pred[classes[label]] += 1\n",
    "\n",
    "for classname, correct_count in correct_pred.items():\n",
    "    accuracy = 100 * float(correct_count) / total_pred[classname]\n",
    "    print(f'Accuracy for class {classname:5s} is: {accuracy:.1f} %')"
   ]
  }
 ],
 "metadata": {
  "kernelspec": {
   "display_name": "py311",
   "language": "python",
   "name": "python3"
  },
  "language_info": {
   "codemirror_mode": {
    "name": "ipython",
    "version": 3
   },
   "file_extension": ".py",
   "mimetype": "text/x-python",
   "name": "python",
   "nbconvert_exporter": "python",
   "pygments_lexer": "ipython3",
   "version": "3.11.9"
  }
 },
 "nbformat": 4,
 "nbformat_minor": 2
}
